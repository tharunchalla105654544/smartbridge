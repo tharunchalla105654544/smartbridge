{
 "cells": [
  {
   "cell_type": "code",
   "execution_count": 1,
   "metadata": {},
   "outputs": [],
   "source": [
    "from tensorflow.keras.models import Sequential\n",
    "from tensorflow.keras.layers import Dense\n",
    "from tensorflow.keras.layers import Convolution2D\n",
    "from tensorflow.keras.layers import MaxPooling2D\n",
    "from tensorflow.keras.layers import Flatten"
   ]
  },
  {
   "cell_type": "code",
   "execution_count": 2,
   "metadata": {},
   "outputs": [
    {
     "name": "stderr",
     "output_type": "stream",
     "text": [
      "Using TensorFlow backend.\n"
     ]
    }
   ],
   "source": [
    "from keras.preprocessing.image import ImageDataGenerator\n",
    "train_datagen = ImageDataGenerator(rescale = 1./255,shear_range = 0.2,zoom_range = 0.2,horizontal_flip = True)\n",
    "test_datagen = ImageDataGenerator(rescale = 1./255)"
   ]
  },
  {
   "cell_type": "code",
   "execution_count": 3,
   "metadata": {},
   "outputs": [
    {
     "name": "stdout",
     "output_type": "stream",
     "text": [
      "Found 100 images belonging to 5 classes.\n",
      "Found 50 images belonging to 5 classes.\n"
     ]
    }
   ],
   "source": [
    "x_train = train_datagen.flow_from_directory(r\"D:\\externship files\\things data\\trainset\",target_size = (64,64),batch_size = 32,class_mode = \"categorical\")\n",
    "x_test = test_datagen.flow_from_directory(r\"D:\\externship files\\things data\\testset\",target_size = (64,64),batch_size = 32,class_mode = \"categorical\")"
   ]
  },
  {
   "cell_type": "code",
   "execution_count": 4,
   "metadata": {},
   "outputs": [],
   "source": [
    "model = Sequential()"
   ]
  },
  {
   "cell_type": "code",
   "execution_count": 5,
   "metadata": {},
   "outputs": [
    {
     "name": "stdout",
     "output_type": "stream",
     "text": [
      "WARNING:tensorflow:From C:\\Users\\suman\\AppData\\Local\\Continuum\\anaconda3\\lib\\site-packages\\tensorflow\\python\\ops\\init_ops.py:1251: calling VarianceScaling.__init__ (from tensorflow.python.ops.init_ops) with dtype is deprecated and will be removed in a future version.\n",
      "Instructions for updating:\n",
      "Call initializer instance with the dtype argument instead of passing it to the constructor\n"
     ]
    }
   ],
   "source": [
    "model.add(Convolution2D(32,(3,3),input_shape = (64,64,3),activation = \"relu\"))"
   ]
  },
  {
   "cell_type": "code",
   "execution_count": 6,
   "metadata": {},
   "outputs": [],
   "source": [
    "model.add(MaxPooling2D(2,2))"
   ]
  },
  {
   "cell_type": "code",
   "execution_count": 7,
   "metadata": {},
   "outputs": [],
   "source": [
    "model.add(Flatten())"
   ]
  },
  {
   "cell_type": "code",
   "execution_count": 8,
   "metadata": {},
   "outputs": [
    {
     "name": "stdout",
     "output_type": "stream",
     "text": [
      "WARNING:tensorflow:From C:\\Users\\suman\\AppData\\Local\\Continuum\\anaconda3\\lib\\site-packages\\tensorflow\\python\\keras\\initializers.py:119: calling RandomUniform.__init__ (from tensorflow.python.ops.init_ops) with dtype is deprecated and will be removed in a future version.\n",
      "Instructions for updating:\n",
      "Call initializer instance with the dtype argument instead of passing it to the constructor\n"
     ]
    }
   ],
   "source": [
    "model.add(Dense(units = 512,activation = \"relu\",kernel_initializer = \"random_uniform\"))"
   ]
  },
  {
   "cell_type": "code",
   "execution_count": 9,
   "metadata": {},
   "outputs": [],
   "source": [
    "model.add(Dense(units = 5,activation = \"softmax\",kernel_initializer = \"random_uniform\"))"
   ]
  },
  {
   "cell_type": "code",
   "execution_count": 10,
   "metadata": {},
   "outputs": [],
   "source": [
    "model.compile(\"sgd\",loss = \"categorical_crossentropy\",metrics = [\"accuracy\"])"
   ]
  },
  {
   "cell_type": "code",
   "execution_count": 11,
   "metadata": {},
   "outputs": [
    {
     "name": "stdout",
     "output_type": "stream",
     "text": [
      "Epoch 1/30\n",
      "47/47 [==============================] - 5s 111ms/step - loss: 1.5436 - acc: 0.3185 - val_loss: 1.6356 - val_acc: 0.2400\n",
      "Epoch 2/30\n",
      "47/47 [==============================] - 5s 112ms/step - loss: 1.3411 - acc: 0.5217 - val_loss: 1.2872 - val_acc: 0.5800\n",
      "Epoch 3/30\n",
      "47/47 [==============================] - 5s 108ms/step - loss: 1.1614 - acc: 0.6002 - val_loss: 1.2251 - val_acc: 0.5200\n",
      "Epoch 4/30\n",
      "47/47 [==============================] - 5s 109ms/step - loss: 0.9646 - acc: 0.6695 - val_loss: 1.1527 - val_acc: 0.5200\n",
      "Epoch 5/30\n",
      "47/47 [==============================] - 5s 106ms/step - loss: 0.9507 - acc: 0.6935 - val_loss: 1.1263 - val_acc: 0.5200\n",
      "Epoch 6/30\n",
      "47/47 [==============================] - 5s 113ms/step - loss: 0.8162 - acc: 0.7303 - val_loss: 1.4945 - val_acc: 0.4000\n",
      "Epoch 7/30\n",
      "47/47 [==============================] - 5s 109ms/step - loss: 0.7201 - acc: 0.7525 - val_loss: 0.9986 - val_acc: 0.6000\n",
      "Epoch 8/30\n",
      "47/47 [==============================] - 5s 112ms/step - loss: 0.5592 - acc: 0.8031 - val_loss: 1.0468 - val_acc: 0.6400\n",
      "Epoch 9/30\n",
      "47/47 [==============================] - 5s 107ms/step - loss: 0.4509 - acc: 0.8425 - val_loss: 0.9774 - val_acc: 0.6200\n",
      "Epoch 10/30\n",
      "47/47 [==============================] - 5s 112ms/step - loss: 0.4710 - acc: 0.8420 - val_loss: 1.0148 - val_acc: 0.6200\n",
      "Epoch 11/30\n",
      "47/47 [==============================] - 5s 105ms/step - loss: 0.3878 - acc: 0.8632 - val_loss: 1.0529 - val_acc: 0.6200\n",
      "Epoch 12/30\n",
      "47/47 [==============================] - 5s 110ms/step - loss: 0.2956 - acc: 0.9114 - val_loss: 1.0234 - val_acc: 0.6400\n",
      "Epoch 13/30\n",
      "47/47 [==============================] - 5s 113ms/step - loss: 0.2609 - acc: 0.9324 - val_loss: 1.0925 - val_acc: 0.6600\n",
      "Epoch 14/30\n",
      "47/47 [==============================] - 5s 109ms/step - loss: 0.2730 - acc: 0.9323 - val_loss: 1.0547 - val_acc: 0.6200\n",
      "Epoch 15/30\n",
      "47/47 [==============================] - 5s 110ms/step - loss: 0.1585 - acc: 0.9735 - val_loss: 1.1564 - val_acc: 0.6200\n",
      "Epoch 16/30\n",
      "47/47 [==============================] - 5s 109ms/step - loss: 0.1969 - acc: 0.9478 - val_loss: 1.1102 - val_acc: 0.6200\n",
      "Epoch 17/30\n",
      "47/47 [==============================] - 5s 109ms/step - loss: 0.1011 - acc: 0.9816 - val_loss: 1.2107 - val_acc: 0.6200\n",
      "Epoch 18/30\n",
      "47/47 [==============================] - 6s 127ms/step - loss: 0.4734 - acc: 0.9149 - val_loss: 1.0614 - val_acc: 0.6000\n",
      "Epoch 19/30\n",
      "47/47 [==============================] - 6s 138ms/step - loss: 0.1399 - acc: 0.9824 - val_loss: 1.1382 - val_acc: 0.6000\n",
      "Epoch 20/30\n",
      "47/47 [==============================] - 6s 131ms/step - loss: 0.1192 - acc: 0.9769 - val_loss: 1.2601 - val_acc: 0.6200\n",
      "Epoch 21/30\n",
      "47/47 [==============================] - 6s 127ms/step - loss: 0.0616 - acc: 0.9932 - val_loss: 1.2500 - val_acc: 0.6200\n",
      "Epoch 22/30\n",
      "47/47 [==============================] - 5s 111ms/step - loss: 0.0440 - acc: 0.9991 - val_loss: 1.3605 - val_acc: 0.6400\n",
      "Epoch 23/30\n",
      "47/47 [==============================] - 5s 106ms/step - loss: 0.0729 - acc: 0.9854 - val_loss: 1.3251 - val_acc: 0.6200\n",
      "Epoch 24/30\n",
      "47/47 [==============================] - 5s 110ms/step - loss: 0.0480 - acc: 0.9967 - val_loss: 1.4220 - val_acc: 0.6400\n",
      "Epoch 25/30\n",
      "47/47 [==============================] - 5s 110ms/step - loss: 0.0338 - acc: 0.9983 - val_loss: 1.3621 - val_acc: 0.6200\n",
      "Epoch 26/30\n",
      "47/47 [==============================] - 6s 118ms/step - loss: 0.0776 - acc: 0.9846 - val_loss: 1.4100 - val_acc: 0.6400\n",
      "Epoch 27/30\n",
      "47/47 [==============================] - 6s 122ms/step - loss: 0.0332 - acc: 0.9983 - val_loss: 1.4058 - val_acc: 0.6200\n",
      "Epoch 28/30\n",
      "47/47 [==============================] - 5s 104ms/step - loss: 0.0252 - acc: 0.9991 - val_loss: 1.4251 - val_acc: 0.6400\n",
      "Epoch 29/30\n",
      "47/47 [==============================] - 5s 106ms/step - loss: 0.0260 - acc: 0.9983 - val_loss: 1.4426 - val_acc: 0.6400\n",
      "Epoch 30/30\n",
      "47/47 [==============================] - 5s 107ms/step - loss: 0.0757 - acc: 0.9820 - val_loss: 1.4997 - val_acc: 0.6200\n"
     ]
    },
    {
     "data": {
      "text/plain": [
       "<tensorflow.python.keras.callbacks.History at 0x1e37ccb4e10>"
      ]
     },
     "execution_count": 11,
     "metadata": {},
     "output_type": "execute_result"
    }
   ],
   "source": [
    "model.fit_generator(x_train,steps_per_epoch =47,epochs = 30,validation_data = x_test,validation_steps = 20)"
   ]
  },
  {
   "cell_type": "code",
   "execution_count": 12,
   "metadata": {},
   "outputs": [],
   "source": [
    "model.save(\"things.h5\")"
   ]
  },
  {
   "cell_type": "code",
   "execution_count": null,
   "metadata": {},
   "outputs": [],
   "source": []
  }
 ],
 "metadata": {
  "kernelspec": {
   "display_name": "Python 3",
   "language": "python",
   "name": "python3"
  },
  "language_info": {
   "codemirror_mode": {
    "name": "ipython",
    "version": 3
   },
   "file_extension": ".py",
   "mimetype": "text/x-python",
   "name": "python",
   "nbconvert_exporter": "python",
   "pygments_lexer": "ipython3",
   "version": "3.7.3"
  }
 },
 "nbformat": 4,
 "nbformat_minor": 2
}
